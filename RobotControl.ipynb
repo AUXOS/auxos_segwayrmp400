{
 "metadata": {
  "name": "RobotControl"
 }, 
 "name": "RobotControl", 
 "nbformat": 2, 
 "worksheets": [
  {
   "cells": [
    {
     "cell_type": "markdown", 
     "source": [
      "Consider a second order system for the lateral control of a robot:", 
      "", 
      "$$", 
      "\\dot{x}=", 
      "\\left[\\begin{array}{c} \\dot{y}_{err}\\cr \\dot{\\psi} _{err} \\end{array}\\right] = ", 
      "\\left[\\begin{array}{cc} 0 && Vx \\cr 0 && 0 \\end{array}\\right]x + ", 
      "\\left[\\begin{array}{c}0 \\cr 1 \\end{array}\\right]u", 
      "$$", 
      ""
     ]
    }, 
    {
     "cell_type": "code", 
     "collapsed": false, 
     "input": [
      "from control import *", 
      "import math", 
      "Vx=1", 
      "# these must be complex numbers so that the pole", 
      "# calculation line will return complex numbers", 
      "zeta=complex(0.707,0)", 
      "fn=0.2", 
      "wn=complex(fn*2*math.pi,0)", 
      "# define the system", 
      "A = [[0, Vx], [0, 0]]", 
      "B = [[0], [1]]", 
      "# define the closed loop pole locations", 
      "poles=[wn*(zeta+sqrt(zeta*zeta-1)), wn*(zeta-sqrt(zeta*zeta-1))]", 
      "# calculate the gains", 
      "K = place(A, B, poles)", 
      "# print the results", 
      "print('poles:')", 
      "print(poles)", 
      "print('gains:')", 
      "print(K)", 
      "#print(eig(A-B*K))", 
      "", 
      "#sys=matlab.ss(A,B,[[1,0]],[0]);", 
      "#matlab.rlocus(sys);"
     ], 
     "language": "python", 
     "outputs": [
      {
       "output_type": "stream", 
       "stream": "stdout", 
       "text": [
        "poles:", 
        "[(0.88844240243519346+0.8887107525677177j), (0.88844240243519346-0.8887107525677177j)]", 
        "gains:", 
        "[[ 1.5791367 -1.7768848]]"
       ]
      }
     ], 
     "prompt_number": 36
    }, 
    {
     "cell_type": "markdown", 
     "source": [
      "Now consider that the yaw rate input (u) is not applied ", 
      "immediately but rather is modeled as a first order lag:", 
      "", 
      "$$", 
      "\\dot{x}=", 
      "\\left[\\begin{array}{c} \\dot{y}_{err}\\cr \\dot{\\psi} _{err} \\cr \\dot{r} _{err} \\end{array}\\right] = ", 
      "\\left[\\begin{array}{cc} 0 && Vx && 0\\cr 0 && 0 && 1 \\cr 0 && 0 && -1/\\tau \\end{array}\\right]x + ", 
      "\\left[\\begin{array}{c}0 \\cr 0 \\cr 1 \\end{array}\\right]u", 
      "$$"
     ]
    }, 
    {
     "cell_type": "code", 
     "collapsed": true, 
     "input": [], 
     "language": "python", 
     "outputs": []
    }
   ]
  }
 ]
}